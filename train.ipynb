{
 "cells": [
  {
   "cell_type": "code",
   "execution_count": null,
   "metadata": {
    "id": "5xHxm0LOAEqe"
   },
   "outputs": [],
   "source": [
    "# !unzip ./Traffic_signs.zip"
   ]
  },
  {
   "cell_type": "code",
   "execution_count": null,
   "metadata": {
    "id": "unnzR--V8dvU"
   },
   "outputs": [],
   "source": [
    "import numpy as np \n",
    "import pandas as pd \n",
    "import matplotlib.pyplot as plt\n",
    "# import cv2\n",
    "import tensorflow as tf\n",
    "from PIL import Image\n",
    "import os\n",
    "from sklearn.model_selection import train_test_split\n",
    "from tensorflow.keras.utils import to_categorical\n",
    "from tensorflow import keras\n",
    "from tensorflow.keras import layers, regularizers\n",
    "\n",
    "from keras.models import Sequential, load_model"
   ]
  },
  {
   "cell_type": "code",
   "execution_count": null,
   "metadata": {
    "id": "zjRlCFSE8eqY"
   },
   "outputs": [],
   "source": [
    "data = []\n",
    "labels = []\n",
    "classes = 43\n",
    "cur_path = os.getcwd()\n",
    "\n",
    "#Retrieving the images and their labels \n",
    "for i in range(classes):\n",
    "    path = os.path.join(cur_path,'train',str(i))\n",
    "    images = os.listdir(path)\n",
    "    for a in images:\n",
    "        try:\n",
    "            image = Image.open(path + '/'+ a)\n",
    "            image = np.array(image.resize((64,64)))\n",
    "            data.append(image)\n",
    "            labels.append(i)\n",
    "        except:\n",
    "            print(\"Error loading image\")\n"
   ]
  },
  {
   "cell_type": "code",
   "execution_count": null,
   "metadata": {
    "colab": {
     "base_uri": "https://localhost:8080/"
    },
    "id": "grVr453U8rj6",
    "outputId": "f3f72922-ae87-4cf2-e3ab-6735b932e174"
   },
   "outputs": [
    {
     "name": "stdout",
     "output_type": "stream",
     "text": [
      "(39209, 64, 64, 3) (39209,)\n",
      "(31367, 64, 64, 3) (7842, 64, 64, 3) (31367,) (7842,)\n"
     ]
    }
   ],
   "source": [
    "#Converting lists into numpy arrays\n",
    "data = np.array(data)\n",
    "labels = np.array(labels)\n",
    "print(data.shape, labels.shape)\n",
    "\n",
    "#Splitting training and testing dataset\n",
    "X_train, X_test, y_train, y_test = train_test_split(data, labels, test_size=0.2, random_state=42)\n",
    "print(X_train.shape, X_test.shape, y_train.shape, y_test.shape)\n",
    "\n",
    "#Converting the labels into one hot encoding\n",
    "y_train = to_categorical(y_train, 43)\n",
    "y_test = to_categorical(y_test, 43)"
   ]
  },
  {
   "cell_type": "code",
   "execution_count": null,
   "metadata": {
    "id": "au2JMbvy9a-B"
   },
   "outputs": [],
   "source": [
    "def my_model():\n",
    "    # inputs = layers.InputLayer(input_shape=(64, 64, 3))\n",
    "    inputs = keras.Input(shape=(64, 64, 3))\n",
    "    x = layers.Conv2D(\n",
    "        filters=32,\n",
    "        kernel_size=3,\n",
    "        padding=\"same\",\n",
    "        kernel_regularizer=regularizers.l2(WEIGHT_DECAY)\n",
    "    )(inputs)\n",
    "    x = layers.BatchNormalization()(x)\n",
    "    x = keras.activations.relu(x)\n",
    "    x = layers.MaxPool2D(pool_size=(2,2))(x)\n",
    "    x = layers.Conv2D(64,3)(x)\n",
    "    # x = layers.Conv2D(64,3,kernel_regularizer=regularizers.l2(WEIGHT_DECAY))(x)\n",
    "    x = layers.BatchNormalization()(x)\n",
    "    x = keras.activations.relu(x)\n",
    "    x = layers.MaxPool2D(pool_size=(2,2))(x)\n",
    "    x = layers.Conv2D(64, 3, activation=\"relu\")(x)\n",
    "    # x = layers.Conv2D(64, 3, activation=\"relu\", kernel_regularizer=regularizers.l2(WEIGHT_DECAY))(x)\n",
    "    x = layers.Conv2D(128,3, activation=\"relu\")(x)\n",
    "    x = layers.MaxPool2D(pool_size=(2,2))(x)\n",
    "    x = layers.Flatten()(x)\n",
    "    x = layers.Dense(128,activation='relu')(x)\n",
    "    x = layers.Dropout(0.5)(x)\n",
    "    x = layers.Dense(64,activation='relu')(x)\n",
    "    outputs = layers.Dense(43, activation=\"softmax\")(x)\n",
    "    model = keras.Model(inputs=inputs,outputs=outputs)\n",
    "    return model"
   ]
  },
  {
   "cell_type": "code",
   "execution_count": null,
   "metadata": {
    "colab": {
     "base_uri": "https://localhost:8080/"
    },
    "id": "A2qMKj2b-Qwj",
    "outputId": "4af2f935-6dd4-42e6-ce75-2fea4c15db2d"
   },
   "outputs": [
    {
     "name": "stdout",
     "output_type": "stream",
     "text": [
      "Epoch 1/10\n",
      "981/981 [==============================] - 39s 7ms/step - loss: 1.4069 - accuracy: 0.5921\n",
      "Epoch 2/10\n",
      "981/981 [==============================] - 7s 7ms/step - loss: 0.3331 - accuracy: 0.8944\n",
      "Epoch 3/10\n",
      "981/981 [==============================] - 7s 7ms/step - loss: 0.1824 - accuracy: 0.9436\n",
      "Epoch 4/10\n",
      "981/981 [==============================] - 7s 7ms/step - loss: 0.1248 - accuracy: 0.9624\n",
      "Epoch 5/10\n",
      "981/981 [==============================] - 7s 7ms/step - loss: 0.0928 - accuracy: 0.9731\n",
      "Epoch 6/10\n",
      "981/981 [==============================] - 7s 7ms/step - loss: 0.0756 - accuracy: 0.9780\n",
      "Epoch 7/10\n",
      "981/981 [==============================] - 7s 7ms/step - loss: 0.0640 - accuracy: 0.9826\n",
      "Epoch 8/10\n",
      "981/981 [==============================] - 7s 7ms/step - loss: 0.0555 - accuracy: 0.9849\n",
      "Epoch 9/10\n",
      "981/981 [==============================] - 7s 7ms/step - loss: 0.0491 - accuracy: 0.9863\n",
      "Epoch 10/10\n",
      "981/981 [==============================] - 7s 7ms/step - loss: 0.0378 - accuracy: 0.9907\n",
      "246/246 [==============================] - 1s 4ms/step - loss: 0.0200 - accuracy: 0.9966\n"
     ]
    },
    {
     "data": {
      "text/plain": [
       "[0.019969629123806953, 0.9965569972991943]"
      ]
     },
     "execution_count": 8,
     "metadata": {
      "tags": []
     },
     "output_type": "execute_result"
    }
   ],
   "source": [
    "BATCH_SIZE = 64\n",
    "WEIGHT_DECAY = 0.001\n",
    "LEARNING_RATE = 0.0007\n",
    "\n",
    "model = my_model()\n",
    "model.compile(loss=\"categorical_crossentropy\",\n",
    "              optimizer=keras.optimizers.Adam(learning_rate=LEARNING_RATE),\n",
    "              metrics=['accuracy'])\n",
    "model.fit(X_train,y_train,epochs=10)\n",
    "model.evaluate(X_test,y_test)"
   ]
  },
  {
   "cell_type": "code",
   "execution_count": null,
   "metadata": {
    "colab": {
     "base_uri": "https://localhost:8080/"
    },
    "id": "s3P0dq-J_k5h",
    "outputId": "4c8cb69b-a049-4644-dc86-839c8fdb6ede"
   },
   "outputs": [
    {
     "name": "stdout",
     "output_type": "stream",
     "text": [
      "INFO:tensorflow:Assets written to: traffic_signs_classifier/assets\n"
     ]
    }
   ],
   "source": [
    "model.save('traffic_signs_classifier/')"
   ]
  },
  {
   "cell_type": "code",
   "execution_count": null,
   "metadata": {
    "id": "MtjRLMyvpWRu"
   },
   "outputs": [],
   "source": [
    "# !zip -r \"model.zip\" traffic_signs_classifier/ "
   ]
  },
  {
   "cell_type": "code",
   "execution_count": null,
   "metadata": {
    "colab": {
     "base_uri": "https://localhost:8080/"
    },
    "id": "GNsmeoDi-B8e",
    "outputId": "ffd4f6e5-9fec-4add-f1e9-fb367b868b3c"
   },
   "outputs": [
    {
     "name": "stdout",
     "output_type": "stream",
     "text": [
      "0.9771971496437054\n"
     ]
    }
   ],
   "source": [
    "#testing accuracy on test dataset\n",
    "from sklearn.metrics import accuracy_score\n",
    "\n",
    "y_test = pd.read_csv('Test.csv')\n",
    "labels = y_test[\"ClassId\"].values\n",
    "imgs = y_test[\"Path\"].values\n",
    "data=[]\n",
    "\n",
    "for img in imgs:\n",
    "    image = Image.open(img)\n",
    "    image = image.resize((64,64))\n",
    "    data.append(np.array(image))\n",
    "\n",
    "X_test=np.array(data)\n",
    "pred = [np.argmax(p) for p in model.predict(X_test)] \n",
    "pred = np.array(pred)\n",
    "\n",
    "#Accuracy with the test data\n",
    "from sklearn.metrics import accuracy_score\n",
    "print(accuracy_score(labels, pred))"
   ]
  }
 ],
 "metadata": {
  "accelerator": "GPU",
  "colab": {
   "collapsed_sections": [],
   "name": "traffic_sign_classification.ipynb",
   "provenance": []
  },
  "kernelspec": {
   "display_name": "Python 3",
   "language": "python",
   "name": "python3"
  },
  "language_info": {
   "codemirror_mode": {
    "name": "ipython",
    "version": 3
   },
   "file_extension": ".py",
   "mimetype": "text/x-python",
   "name": "python",
   "nbconvert_exporter": "python",
   "pygments_lexer": "ipython3",
   "version": "3.8.5"
  }
 },
 "nbformat": 4,
 "nbformat_minor": 1
}
